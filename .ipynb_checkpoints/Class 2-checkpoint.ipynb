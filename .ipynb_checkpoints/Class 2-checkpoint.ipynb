{
 "cells": [
  {
   "cell_type": "code",
   "execution_count": 4,
   "id": "79e167a2-23ec-4a40-b51b-3f601e7c7a98",
   "metadata": {},
   "outputs": [],
   "source": [
    "# simplified implementation of stack (using build-ins)\n",
    "\n",
    "class Stack:\n",
    "    def __init__(self):\n",
    "        self.items=[]\n",
    "    \n",
    "    def push(self, value):\n",
    "        self.items.append(value)\n",
    "\n",
    "    def pop(self):\n",
    "        return self.items.pop()\n",
    "\n",
    "    # nice to have methods\n",
    "    def size(self):\n",
    "        return len(self.items)\n",
    "\n",
    "    def peek(self):\n",
    "        return self.items[len(self.items)-1]\n",
    "\n",
    "    def is_empty(self):\n",
    "        return self.items ==[]"
   ]
  },
  {
   "cell_type": "code",
   "execution_count": 7,
   "id": "808b4e21-5515-463b-9599-0cc96272edd7",
   "metadata": {},
   "outputs": [
    {
     "data": {
      "text/plain": [
       "'odraciR'"
      ]
     },
     "execution_count": 7,
     "metadata": {},
     "output_type": "execute_result"
    }
   ],
   "source": [
    "def invert_str(somestring):\n",
    "    stack = Stack()\n",
    "    for char in somestring:\n",
    "        stack.push(char)\n",
    "    out =\"\"\n",
    "    while not stack.is_empty():\n",
    "        out += stack.pop()\n",
    "    return out \n",
    "invert_str(\"Ricardo\")"
   ]
  },
  {
   "cell_type": "code",
   "execution_count": 13,
   "id": "ffe8a233-eb24-4bd8-a9d3-1197a321b7b5",
   "metadata": {},
   "outputs": [
    {
     "name": "stdout",
     "output_type": "stream",
     "text": [
      "140368223437200\n",
      "140368223437168\n"
     ]
    }
   ],
   "source": [
    "# In python, the primary data types are:\n",
    "# int, bool, float\n",
    "\n",
    "x = 5 \n",
    "y = x\n",
    "x += 1\n",
    "\n",
    "print(id(x))\n",
    "print(id(y))"
   ]
  },
  {
   "cell_type": "code",
   "execution_count": 14,
   "id": "3e9585e3-6a73-46f6-ac9c-796d10992da5",
   "metadata": {},
   "outputs": [
    {
     "name": "stdout",
     "output_type": "stream",
     "text": [
      "140367765463296\n",
      "140367765463296\n"
     ]
    }
   ],
   "source": [
    "# Other data types and structures pass by reference\n",
    "\n",
    "x = [1,2,3]\n",
    "y = x\n",
    "y.append(4)\n",
    "\n",
    "print(id(x))\n",
    "print(id(y))"
   ]
  },
  {
   "cell_type": "code",
   "execution_count": 19,
   "id": "09cf4a9a-d4ac-4b08-b906-3d5628b460d4",
   "metadata": {},
   "outputs": [],
   "source": [
    "class StackII:\n",
    "    class __Node:\n",
    "        def __init__(self, data):\n",
    "            self.data = data \n",
    "            self.below = None\n",
    "\n",
    "    def __init__(self):\n",
    "        self.top = None\n",
    "\n",
    "    # 'push' in new node is created with the proviede value, and if the stack is empty, the \n",
    "    # new node becomes the top. Otherwise, the new node is linked below the current top\n",
    "    # then it becomes the new top\n",
    "    def push(self, value): \n",
    "        new_node = self.__Node(value)\n",
    "        if self.top is None:\n",
    "            self.top = new_node\n",
    "        else:\n",
    "            new_node.below = self.top\n",
    "            self.top = new_node\n",
    "\n",
    "    # 'pop' it checks if the stack is empty, if not, it returns the value of the currrent top node.\n",
    "    # then update the top node below it, and removes the old top node\n",
    "    def pop(self):\n",
    "        if self.top is None:\n",
    "            return None\n",
    "        else:\n",
    "            Popped_value = self.top.data\n",
    "            self.top = self.top.below\n",
    "            return popped_value\n",
    "        raise IndexError(\"Stack is empty\")\n",
    "\n",
    "    def size(self):\n",
    "        return len(self.items)\n",
    "\n",
    "    # 'peek' returns the data oif the top node without removing it, and \"is_empty\" checks if,\n",
    "    # the stack is empty.\n",
    "    def peek(self):\n",
    "        return self.top.data if self.top else None\n",
    "\n",
    "    def is__empty(self):\n",
    "        return self.top is None"
   ]
  },
  {
   "cell_type": "code",
   "execution_count": null,
   "id": "f979a865-11cf-4ec0-b1a0-ace6cc18455c",
   "metadata": {},
   "outputs": [],
   "source": []
  }
 ],
 "metadata": {
  "kernelspec": {
   "display_name": "Python 3 (ipykernel)",
   "language": "python",
   "name": "python3"
  },
  "language_info": {
   "codemirror_mode": {
    "name": "ipython",
    "version": 3
   },
   "file_extension": ".py",
   "mimetype": "text/x-python",
   "name": "python",
   "nbconvert_exporter": "python",
   "pygments_lexer": "ipython3",
   "version": "3.10.12"
  }
 },
 "nbformat": 4,
 "nbformat_minor": 5
}
