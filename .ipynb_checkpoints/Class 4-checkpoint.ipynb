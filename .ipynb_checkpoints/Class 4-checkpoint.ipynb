{
 "cells": [
  {
   "cell_type": "code",
   "execution_count": 1,
   "id": "9431af6e-5cdc-4c63-bd6a-ccaf4d2a4617",
   "metadata": {},
   "outputs": [
    {
     "ename": "SyntaxError",
     "evalue": "unterminated string literal (detected at line 9) (2252715466.py, line 9)",
     "output_type": "error",
     "traceback": [
      "\u001b[0;36m  Cell \u001b[0;32mIn[1], line 9\u001b[0;36m\u001b[0m\n\u001b[0;31m    4. Create method(s) to set `cell's` value to zero given 2 coordinates.\u001b[0m\n\u001b[0m                                    ^\u001b[0m\n\u001b[0;31mSyntaxError\u001b[0m\u001b[0;31m:\u001b[0m unterminated string literal (detected at line 9)\n"
     ]
    }
   ],
   "source": [
    "# Problem 1\n",
    "\n",
    "## NxM matrix using doubly linked lists\n",
    "\n",
    "### Acceptance Criteria\n",
    "1. Create the doubly linked list class\n",
    "2. Create a `Matrix` class that internally used two (or more) instances of `DoublyLinkedList` to produce an NxM matrix.\n",
    "3. Create method(s) to re-assign values given 2 coordinates.\n",
    "4. Create method(s) to set `cell's` value to zero given 2 coordinates.\n"
   ]
  },
  {
   "cell_type": "code",
   "execution_count": 3,
   "id": "69b8e3d4-7e54-422f-a7a8-af0cea65298f",
   "metadata": {},
   "outputs": [
    {
     "name": "stdout",
     "output_type": "stream",
     "text": [
      "[0, 0, 0, 0, 0]\n",
      "\n",
      "\n",
      "[0, 0, 0, 0, 0]\n",
      "\n",
      "\n",
      "[0, 0, 0, 0, 0]\n",
      "\n",
      "\n",
      "[0, 0, 0, 0, 0]\n",
      "\n",
      "\n",
      "[0, 0, 0, 0, 0]\n",
      "\n",
      "\n"
     ]
    }
   ],
   "source": [
    "# Demo with python lists \n",
    "\n",
    "matrix = []\n",
    "for _ in range(5):\n",
    "    row = []\n",
    "    for _ in range(5):\n",
    "        row.append(0)\n",
    "    matrix.append(row)\n",
    "\n",
    "for n in range(5):\n",
    "    print(matrix[n])\n",
    "    print(\"\\n\")"
   ]
  },
  {
   "cell_type": "code",
   "execution_count": 36,
   "id": "28ef1635-c798-42cc-b887-594d8547dbd1",
   "metadata": {},
   "outputs": [
    {
     "ename": "IndentationError",
     "evalue": "unindent does not match any outer indentation level (<tokenize>, line 20)",
     "output_type": "error",
     "traceback": [
      "\u001b[0;36m  File \u001b[0;32m<tokenize>:20\u001b[0;36m\u001b[0m\n\u001b[0;31m    if self.head is not None:\u001b[0m\n\u001b[0m    ^\u001b[0m\n\u001b[0;31mIndentationError\u001b[0m\u001b[0;31m:\u001b[0m unindent does not match any outer indentation level\n"
     ]
    }
   ],
   "source": [
    "# Double Linked List\n",
    "\n",
    "class DoublyLinkedList:\n",
    "    class __Node:\n",
    "        def __init__(self, data):\n",
    "            self.data = None\n",
    "            self.next = None\n",
    "            self.pref = None\n",
    "\n",
    "    def __init__(self):\n",
    "        self.head = None\n",
    "        self.tail = None \n",
    "        self.size = 0\n",
    "\n",
    "    def append(self, value):\n",
    "        # Create a new node with the given value\n",
    "         new_node = self.__Node(value)\n",
    "        \n",
    "        # If the list is empty, make the new node the head \n",
    "        if self.head is None:\n",
    "            self.head = new_node\n",
    "            self.tail = new_node\n",
    "        else:\n",
    "            # Set the next of the current tail to the new node\n",
    "            self.tail.next = new_node\n",
    "            # Set the previous of the new node to the current tail\n",
    "            new_node.prev = self.tail\n",
    "            \n",
    "        # update the tail to be the new node\n",
    "        self.tail = new_node\n",
    "\n",
    "        # Increase the size of the list\n",
    "        self.size += 1\n",
    "\n",
    "    def insert(self, value):\n",
    "        # Start from the head of the list \n",
    "        current = self.head\n",
    "        #Initialize the index to 0 \n",
    "        index = 0\n",
    "        # Traverse the list until reaching the end\n",
    "        while current is not None:\n",
    "            # If the current node's data matches the value\n",
    "            if current.data == value:\n",
    "                # Return the index \n",
    "                return index\n",
    "            # Move to the next node \n",
    "            current = current.next\n",
    "            # Increment the index\n",
    "            index += 1\n",
    "    # If the value is not found, rasise a Value Error\n",
    "        raise ValueError(\"Value not found in the list\")\n",
    "\n",
    "    def remove(self, value):\n",
    "        # Start from the head of the list\n",
    "        current = self.head\n",
    "        #Traverse the list until reaching the end \n",
    "        while current is not None:\n",
    "            # If the current node's data matches the value \n",
    "            if current.prev is not None:\n",
    "                current.prev.next = current.next\n",
    "            else:\n",
    "                # If the current node is the head, update the head \n",
    "                self.head = current.next\n",
    "                \n",
    "            # Update the next node's previous pointer\n",
    "            if current.next is not None:\n",
    "                current.next.prev = current.prev\n",
    "            else:\n",
    "                # If the current node is the tail, update the tail \n",
    "                self.tail = current.prev\n",
    "            # Decrease the size of the list  \n",
    "            self.size -= 1\n",
    "            return\n",
    "            # Move to the next node\n",
    "            current = current.next\n",
    "            # If the value is not found, raise a valueError\n",
    "            raise ValueError(\"Value not found in the list\")\n",
    "\n",
    "    def index(self, value):\n",
    "        pass\n",
    "\n",
    "    def search (self, index):\n",
    "        pass\n",
    "\n",
    "    def __str__(self, index):\n",
    "        pass\n",
    "\n",
    "    def __getitem__(self, index):\n",
    "        pass\n",
    "\n",
    "    def __setitem__(self, index):\n",
    "        pass\n",
    "        "
   ]
  },
  {
   "cell_type": "code",
   "execution_count": 24,
   "id": "2028ae2c-0456-4122-906d-78ec50185533",
   "metadata": {},
   "outputs": [
    {
     "name": "stdout",
     "output_type": "stream",
     "text": [
      "2\n",
      "[1, 'A', 3]\n"
     ]
    }
   ],
   "source": [
    "mylist = [1,2,3]\n",
    "print(mylist[1])\n",
    "mylist[1] = \"A\"\n",
    "print(mylist)\n"
   ]
  },
  {
   "cell_type": "code",
   "execution_count": 29,
   "id": "e153b7c6-6304-4d94-ae33-8301931eb85b",
   "metadata": {},
   "outputs": [
    {
     "ename": "AttributeError",
     "evalue": "'NoneType' object has no attribute 'next'",
     "output_type": "error",
     "traceback": [
      "\u001b[0;31m---------------------------------------------------------------------------\u001b[0m",
      "\u001b[0;31mAttributeError\u001b[0m                            Traceback (most recent call last)",
      "Cell \u001b[0;32mIn[29], line 4\u001b[0m\n\u001b[1;32m      1\u001b[0m dll \u001b[38;5;241m=\u001b[39m DoublyLinkedList()\n\u001b[1;32m      3\u001b[0m \u001b[38;5;28;01mfor\u001b[39;00m i \u001b[38;5;129;01min\u001b[39;00m \u001b[38;5;28mrange\u001b[39m(\u001b[38;5;241m5\u001b[39m):\n\u001b[0;32m----> 4\u001b[0m     \u001b[43mdll\u001b[49m\u001b[38;5;241;43m.\u001b[39;49m\u001b[43mappend\u001b[49m\u001b[43m(\u001b[49m\u001b[43mi\u001b[49m\u001b[43m)\u001b[49m\n\u001b[1;32m      6\u001b[0m dll\u001b[38;5;241m.\u001b[39minsert(\u001b[38;5;241m5\u001b[39m, \u001b[38;5;241m100\u001b[39m)\n\u001b[1;32m      7\u001b[0m \u001b[38;5;28mprint\u001b[39m(dll)\n",
      "Cell \u001b[0;32mIn[23], line 23\u001b[0m, in \u001b[0;36mDoublyLinkedList.append\u001b[0;34m(self, value)\u001b[0m\n\u001b[1;32m     20\u001b[0m     \u001b[38;5;28mself\u001b[39m\u001b[38;5;241m.\u001b[39mhead \u001b[38;5;241m=\u001b[39m new_node\n\u001b[1;32m     21\u001b[0m \u001b[38;5;28;01melse\u001b[39;00m:\n\u001b[1;32m     22\u001b[0m     \u001b[38;5;66;03m# Set the next of the current tail to the new node\u001b[39;00m\n\u001b[0;32m---> 23\u001b[0m     \u001b[38;5;28;43mself\u001b[39;49m\u001b[38;5;241;43m.\u001b[39;49m\u001b[43mtail\u001b[49m\u001b[38;5;241;43m.\u001b[39;49m\u001b[43mnext\u001b[49m \u001b[38;5;241m=\u001b[39m new_node\n\u001b[1;32m     24\u001b[0m     \u001b[38;5;66;03m# Set the previous of the new node to the current tail\u001b[39;00m\n\u001b[1;32m     25\u001b[0m     new_node\u001b[38;5;241m.\u001b[39mprev \u001b[38;5;241m=\u001b[39m \u001b[38;5;28mself\u001b[39m\u001b[38;5;241m.\u001b[39mtail\n",
      "\u001b[0;31mAttributeError\u001b[0m: 'NoneType' object has no attribute 'next'"
     ]
    }
   ],
   "source": [
    "dll = DoublyLinkedList()\n",
    "\n",
    "for i in range(5):\n",
    "    dll.append(i)\n",
    "\n",
    "dll.insert(5, 100)\n",
    "print(dll)\n"
   ]
  },
  {
   "cell_type": "code",
   "execution_count": null,
   "id": "b6e706af-ee5d-43a5-9aec-764b38564bf3",
   "metadata": {},
   "outputs": [],
   "source": []
  }
 ],
 "metadata": {
  "kernelspec": {
   "display_name": "Python 3 (ipykernel)",
   "language": "python",
   "name": "python3"
  },
  "language_info": {
   "codemirror_mode": {
    "name": "ipython",
    "version": 3
   },
   "file_extension": ".py",
   "mimetype": "text/x-python",
   "name": "python",
   "nbconvert_exporter": "python",
   "pygments_lexer": "ipython3",
   "version": "3.10.12"
  }
 },
 "nbformat": 4,
 "nbformat_minor": 5
}
