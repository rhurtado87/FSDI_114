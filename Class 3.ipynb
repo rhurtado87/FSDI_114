{
 "cells": [
  {
   "cell_type": "code",
   "execution_count": 1,
   "id": "1be4e855-deb9-426a-b684-e706d7c86bae",
   "metadata": {},
   "outputs": [],
   "source": [
    "# Simplifiend implementation of Queue (using buit-ins)\n",
    "\n",
    "class Queue:\n",
    "    def __init__(self):\n",
    "        self.items = []\n",
    "\n",
    "    def enqueue(self, value):\n",
    "        self.items.iinsert(0, value)\n",
    "\n",
    "    def dequeue(self):\n",
    "        return self.items.pop()\n",
    "\n",
    "    # nice to have methods\n",
    "    def size(self):\n",
    "        return len(self.items)\n",
    "\n",
    "    def peek(self):\n",
    "        return self.items[len(self.items)-1]\n",
    "\n",
    "    def is_empty(self):\n",
    "        return self.items == []\n",
    "                                                                    "
   ]
  },
  {
   "cell_type": "code",
   "execution_count": 23,
   "id": "5ab1c204-0879-4ab7-b8db-708e7afb9eb9",
   "metadata": {},
   "outputs": [
    {
     "ename": "SyntaxError",
     "evalue": "invalid syntax (783701254.py, line 7)",
     "output_type": "error",
     "traceback": [
      "\u001b[0;36m  Cell \u001b[0;32mIn[23], line 7\u001b[0;36m\u001b[0m\n\u001b[0;31m    1. Built-ins are not allowed (no lists, or built-in methods).\u001b[0m\n\u001b[0m       ^\u001b[0m\n\u001b[0;31mSyntaxError\u001b[0m\u001b[0;31m:\u001b[0m invalid syntax\n"
     ]
    }
   ],
   "source": [
    "# Problem 1\n",
    "\n",
    "## Create a \"from scratch\" implementation of Queue (QueueII)\n",
    "\n",
    "### Acceptance Criteria\n",
    "\n",
    "1. Built-ins are not allowed (no lists, or built-in methods).\n",
    "2. Your enqueue method must have a worst case time complexity of 0(1) (constant).\n",
    "3. Your dequeue method must have a worst case time complexity of 0(1) (constant).\n",
    "\n",
    "### Bouns\n",
    "\n",
    "1. Implement the size method.\n",
    "2. Implement peek.\n",
    "3. Implement is_empty.\n",
    "\n",
    "### Note\n",
    "If you arent sure where to start, test the Queue class in the cell above it to know how it works."
   ]
  },
  {
   "cell_type": "code",
   "execution_count": 7,
   "id": "4860b8bf-c79b-4814-bf7f-fe0947c240ed",
   "metadata": {},
   "outputs": [
    {
     "name": "stdout",
     "output_type": "stream",
     "text": [
      "Size of queue: 3\n",
      "Front element: 1\n",
      "Dequeued element: 1\n",
      "Dequeued element: 2\n",
      "Is the queue empty? False\n",
      "Dequeued element: 3\n",
      "Is the queue empty? False\n"
     ]
    }
   ],
   "source": [
    "# create a new node with the provided value\n",
    "class Node:\n",
    "    def __init__(self, data):\n",
    "        self.data = data\n",
    "        self.next = None\n",
    "\n",
    "class QueueII:\n",
    "    def __init__(self):\n",
    "        self.front = None\n",
    "        self.rear = None\n",
    "        self.size = 0\n",
    "\n",
    "    #detemine the state of the queue (is it empty? or not)\n",
    "    #it follows logically, that the new node is both the front and the rear of the queue\n",
    "    #self.rear = new_node\n",
    "    #self.front - new_node\n",
    "    def enqueue(self, data):\n",
    "        new_node = Node(data)\n",
    "        if self.rear is None:\n",
    "            self.front = new_node\n",
    "            self.rear = new_node\n",
    "        else:\n",
    "            self.rear.next = new_node\n",
    "            self.rear = new_node\n",
    "        self.size += 1\n",
    "\n",
    "    #what if the queue is not empty>\n",
    "    def dequeue(self):\n",
    "        if self.front is None:\n",
    "            raise IndexError(\"Cannot dequeue from an empty queue\")\n",
    "        data = self.front.data\n",
    "        if self.front == self.rear:\n",
    "            self.front = None\n",
    "            self.rear = None\n",
    "        else:\n",
    "            self.front = self.front.next\n",
    "        self.size -= 1\n",
    "        return data\n",
    "\n",
    "    def peek(self):\n",
    "        if self.front is None:\n",
    "            raise IndexError(\"Cannot peek from an empty queue\")\n",
    "        return self.front.data\n",
    "\n",
    "    def is_empty(self):\n",
    "        return self.size == 0\n",
    "\n",
    "    def get_size(self):\n",
    "        return self.size\n",
    "\n",
    "    # Create a queue\n",
    "queue = QueueII()\n",
    "\n",
    "# Enqueue elements\n",
    "queue.enqueue(1)\n",
    "queue.enqueue(2)\n",
    "queue.enqueue(3)\n",
    "\n",
    "# Check size\n",
    "print(\"Size of queue:\", queue.get_size())\n",
    "\n",
    "# Peek at the front element\n",
    "print(\"Front element:\", queue.peek())\n",
    "\n",
    "# Dequeue elements\n",
    "print(\"Dequeued element:\", queue.dequeue())\n",
    "print(\"Dequeued element:\", queue.dequeue())\n",
    "\n",
    "# Check if the queue is empty\n",
    "print(\"Is the queue empty?\", queue.is_empty())\n",
    "\n",
    "# Enqueue another element\n",
    "queue.enqueue(4)\n",
    "\n",
    "# Dequeue the remaining element\n",
    "print(\"Dequeued element:\", queue.dequeue())\n",
    "\n",
    "# Check if the queue is empty after dequeuing all elements\n",
    "print(\"Is the queue empty?\", queue.is_empty())\n"
   ]
  },
  {
   "cell_type": "code",
   "execution_count": 8,
   "id": "88f6d287-3eae-430b-94e4-eda24a1c853d",
   "metadata": {},
   "outputs": [
    {
     "name": "stdout",
     "output_type": "stream",
     "text": [
      "[]\n",
      "['A']\n",
      "['A', 'B']\n"
     ]
    }
   ],
   "source": [
    "mylist = []\n",
    "\n",
    "# How states impact what is displayed what I \"print\" a python list:\n",
    "#Empty list\n",
    "print(mylist)\n",
    "\n",
    "# List with exactly one value\n",
    "mylist.append(\"A\")\n",
    "print(mylist)\n",
    "\n",
    "# List with more then one value\n",
    "mylist.append(\"B\")\n",
    "print(mylist)\n"
   ]
  },
  {
   "cell_type": "code",
   "execution_count": 28,
   "id": "348b1e33-19f8-44a8-a321-5371ab930680",
   "metadata": {},
   "outputs": [],
   "source": [
    "\n",
    "class SingyLinkedList:\n",
    "    class __Node:\n",
    "        def __init__(self, data):\n",
    "            self.data = data\n",
    "            self.next = None\n",
    "\n",
    "    def __init__(self):\n",
    "        self.head - None\n",
    "        # Challenge for you: see if you can have and maintain a tail ref and how that impacts performance!\n",
    "\n",
    "    def append(self, value):\n",
    "        new_node = self.__Node(value)\n",
    "        if not self.head:\n",
    "            self.head = new_node\n",
    "        else:\n",
    "            current = self.head\n",
    "            while current.next:\n",
    "                current = current.next\n",
    "            current.next = new_node\n",
    "\n",
    "    def insert(self, index, value):\n",
    "        # This method has to insert a new node (with value) BEFORE the index, not after!\n",
    "        pass\n",
    "\n",
    "    def __str__(self):\n",
    "        # this dunder method must return a string at all times \n",
    "        out = \"[\"\n",
    "        current = self.head\n",
    "        if current:\n",
    "            out += \"%s\" % repr(current.data)\n",
    "            current = current.next\n",
    "            while current:\n",
    "                out += \", %s\" % repr(current.data)\n",
    "                current = current.next\n",
    "        out += \"]\"\n",
    "        return out"
   ]
  },
  {
   "cell_type": "code",
   "execution_count": 34,
   "id": "18e317c4-05be-4fe1-ad93-51503343bbff",
   "metadata": {},
   "outputs": [
    {
     "name": "stdout",
     "output_type": "stream",
     "text": [
      "[]\n",
      "[1]\n",
      "[1, 2]\n"
     ]
    }
   ],
   "source": [
    "sll = SingyLinkedList()\n",
    "\n",
    "# When the list is empty:\n",
    "print(sll)\n",
    "\n",
    "# When the list has 1 node:\n",
    "sll.append(1)\n",
    "print(sll)\n",
    "\n",
    "# when the list has more then 1\n",
    "sll.append(2)\n",
    "print(sll)\n"
   ]
  },
  {
   "cell_type": "code",
   "execution_count": null,
   "id": "da9bebc6-fa89-4660-881d-f996eecfb6f2",
   "metadata": {},
   "outputs": [],
   "source": []
  }
 ],
 "metadata": {
  "kernelspec": {
   "display_name": "Python 3 (ipykernel)",
   "language": "python",
   "name": "python3"
  },
  "language_info": {
   "codemirror_mode": {
    "name": "ipython",
    "version": 3
   },
   "file_extension": ".py",
   "mimetype": "text/x-python",
   "name": "python",
   "nbconvert_exporter": "python",
   "pygments_lexer": "ipython3",
   "version": "3.10.12"
  }
 },
 "nbformat": 4,
 "nbformat_minor": 5
}
