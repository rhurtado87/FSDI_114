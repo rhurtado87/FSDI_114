{
 "cells": [
  {
   "cell_type": "code",
   "execution_count": 1,
   "id": "51de662c-ac9b-43cf-a10b-695373df1f75",
   "metadata": {},
   "outputs": [
    {
     "name": "stdout",
     "output_type": "stream",
     "text": [
      "h\n",
      "e\n",
      "l\n",
      "l\n",
      "o\n",
      ",\n",
      "w\n",
      "o\n",
      "r\n",
      "l\n",
      "d\n",
      "!\n"
     ]
    }
   ],
   "source": [
    "for char in \"hello,world!\":\n",
    "    print(char)\n",
    "\n",
    "# Press Shift+Enter when you've finshed typing this."
   ]
  },
  {
   "cell_type": "markdown",
   "id": "21706a9f-804c-452d-a7a5-0bbda63189b9",
   "metadata": {},
   "source": [
    "# Problem 1\n",
    "## Anagram check \n",
    "\n",
    "Given two strings as inputs to your function, determine if these are anagrams of each other. Return `True` if they are, `False` otherwise.\n",
    "\n",
    "### Criteria\n",
    "Two Strings are anagrams if all the criteria below are met:\n",
    "1. They must be of equal length.\n",
    "2. They must use the same letters, the same amount of times.\n",
    "\n",
    "```\n",
    "Examples:\n",
    "anagram_check(\"heart\",\"earth\") should return True\n",
    "anagram_check(\"scar\", \"cars\") should return True\n",
    "anagram_check(\"star\", \"rats\") should return True\n",
    "anagram_check(\"aaab\", \"aabb\") should return False\n",
    "```\n"
   ]
  },
  {
   "cell_type": "code",
   "execution_count": 3,
   "id": "79a74752-5d67-4ad1-b686-ce3948ac494d",
   "metadata": {},
   "outputs": [
    {
     "name": "stdout",
     "output_type": "stream",
     "text": [
      "False\n"
     ]
    }
   ],
   "source": [
    "#Avoid this, this is a poor solution:\n",
    "def anagram_check(str1, str2):\n",
    "    return sorted(str1) == sorted(str2)\n",
    "\n",
    "print(anagram_check(\"I am Lord Voldemort\",\"Tom Marvolo Riddle\"))\n",
    "\n",
    "# In the popular Harry Potter sage, the villain's name \"Volodmort\" is explained to have chosen this name as it is an anagram \n",
    "# of his \"human name\". \"Tom Marvolo Riddle\" is an anagram  of \" I am Lord Voldemort\""
   ]
  },
  {
   "cell_type": "code",
   "execution_count": null,
   "id": "6d3b3bab-e453-48fc-bc3e-24c597d8600f",
   "metadata": {},
   "outputs": [],
   "source": []
  }
 ],
 "metadata": {
  "kernelspec": {
   "display_name": "Python 3 (ipykernel)",
   "language": "python",
   "name": "python3"
  },
  "language_info": {
   "codemirror_mode": {
    "name": "ipython",
    "version": 3
   },
   "file_extension": ".py",
   "mimetype": "text/x-python",
   "name": "python",
   "nbconvert_exporter": "python",
   "pygments_lexer": "ipython3",
   "version": "3.10.12"
  }
 },
 "nbformat": 4,
 "nbformat_minor": 5
}
